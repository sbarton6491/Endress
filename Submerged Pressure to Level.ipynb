{
 "cells": [
  {
   "cell_type": "markdown",
   "metadata": {},
   "source": [
    "This code will calculate the level in a vessel, and density of the process, using two\n",
    "submerged hydrostatic level measurements and the vertical distance between them.\n",
    "\n",
    "P1 is the higher pressure (physically lower) pressure value in psi_g  \n",
    "P2 is the lower pressure (physically higher) pressure value in psi_g  \n",
    "d is the vertical distance between process connections in feet  \n",
    "INPUT VALUES HERE:"
   ]
  },
  {
   "cell_type": "code",
   "execution_count": 10,
   "metadata": {},
   "outputs": [],
   "source": [
    "P1    = 10\n",
    "P2    = 9\n",
    "d     = 2.1"
   ]
  },
  {
   "cell_type": "markdown",
   "metadata": {},
   "source": [
    "Converts each value to SI units (Pascals & meters) & Calculates the heights & density of process:"
   ]
  },
  {
   "cell_type": "code",
   "execution_count": 12,
   "metadata": {},
   "outputs": [
    {
     "name": "stdout",
     "output_type": "stream",
     "text": [
      "The process height from sensor P1 is 1.95 meters\n",
      "The process height from sensor P2 is 1.76 meters\n",
      "The density of the process is 24839926.91 kg/m**3\n"
     ]
    }
   ],
   "source": [
    "g     = 9.81\n",
    "P1    = P1*6895\n",
    "P2    = P2*6895\n",
    "d     = d*0.3048\n",
    "\n",
    "H1  = P1*d/(P1-P2)\n",
    "H2 = H1 - d\n",
    "rho = P1/(g*H1)\n",
    "print('The process height from sensor P1 is {:1.2f} meters'.format(H1))\n",
    "print('The process height from sensor P2 is {:1.2f} meters'.format(H2))\n",
    "print('The density of the process is {:1.2f} kg/m**3'.format(rho))"
   ]
  },
  {
   "cell_type": "markdown",
   "metadata": {},
   "source": [
    "    |                               | \n",
    "    |                               |  \n",
    "    | - - - - - - - - - - - - -  - -|  \n",
    "    |         ↑     ↑               |  \n",
    "    |         ↑     ↑               |  \n",
    "    |         ↑     H2              |  \n",
    "    |         ↑     ↓               |  \n",
    "    |         ↑     ----------------|→ P2  \n",
    "    |         ↑               ↑     |  \n",
    "    |         H1              ↑     |  \n",
    "    |         ↓               d     |  \n",
    "    |         ↓               ↓     |  \n",
    "    |         ----------------------|→ P1  \n",
    "    |                               |  \n",
    "    |                               |  \n",
    "    |                               |  \n",
    "    |_______________________________|  "
   ]
  },
  {
   "cell_type": "code",
   "execution_count": null,
   "metadata": {},
   "outputs": [],
   "source": []
  }
 ],
 "metadata": {
  "kernelspec": {
   "display_name": "Python 3",
   "language": "python",
   "name": "python3"
  },
  "language_info": {
   "codemirror_mode": {
    "name": "ipython",
    "version": 3
   },
   "file_extension": ".py",
   "mimetype": "text/x-python",
   "name": "python",
   "nbconvert_exporter": "python",
   "pygments_lexer": "ipython3",
   "version": "3.8.5"
  }
 },
 "nbformat": 4,
 "nbformat_minor": 4
}
